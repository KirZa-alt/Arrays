{
  "nbformat": 4,
  "nbformat_minor": 0,
  "metadata": {
    "colab": {
      "provenance": [],
      "authorship_tag": "ABX9TyMYpqF/y8RWaj0wcIA6MLbf",
      "include_colab_link": true
    },
    "kernelspec": {
      "name": "python3",
      "display_name": "Python 3"
    },
    "language_info": {
      "name": "python"
    }
  },
  "cells": [
    {
      "cell_type": "markdown",
      "metadata": {
        "id": "view-in-github",
        "colab_type": "text"
      },
      "source": [
        "<a href=\"https://colab.research.google.com/github/KirZa-alt/Arrays/blob/main/Arrays_in_python.ipynb\" target=\"_parent\"><img src=\"https://colab.research.google.com/assets/colab-badge.svg\" alt=\"Open In Colab\"/></a>"
      ]
    },
    {
      "cell_type": "code",
      "execution_count": null,
      "metadata": {
        "id": "6S2umW1lOl3y"
      },
      "outputs": [],
      "source": [
        "import numpy as np\n",
        "data=[2,2,4,5,7,8]\n",
        "\n",
        "array1=np.array(data)"
      ]
    },
    {
      "cell_type": "code",
      "source": [
        "print(array1.ndim)\n",
        "print(array1.shape)\n",
        "print(array1.dtype)"
      ],
      "metadata": {
        "colab": {
          "base_uri": "https://localhost:8080/"
        },
        "id": "TNEnrMBjUbbi",
        "outputId": "76cf1f1f-7697-45b4-b287-f9b0f93c7633"
      },
      "execution_count": null,
      "outputs": [
        {
          "output_type": "stream",
          "name": "stdout",
          "text": [
            "1\n",
            "(6,)\n",
            "int64\n"
          ]
        }
      ]
    },
    {
      "cell_type": "code",
      "source": [
        "array2=np.arange(0,10,2)\n",
        "''' start stop skip '''\n",
        "print(array2)"
      ],
      "metadata": {
        "colab": {
          "base_uri": "https://localhost:8080/"
        },
        "id": "pRHJ1SckUgJc",
        "outputId": "5ff50981-926e-4be7-d409-a6f4d62842e6"
      },
      "execution_count": null,
      "outputs": [
        {
          "output_type": "stream",
          "name": "stdout",
          "text": [
            "[0 2 4 6 8]\n"
          ]
        }
      ]
    },
    {
      "cell_type": "code",
      "source": [
        "\n",
        "np.zeros((3,4))"
      ],
      "metadata": {
        "colab": {
          "base_uri": "https://localhost:8080/"
        },
        "id": "02ylmSIMVIZY",
        "outputId": "b12700f8-77e5-48a0-c901-ecafb8503ab7"
      },
      "execution_count": null,
      "outputs": [
        {
          "output_type": "execute_result",
          "data": {
            "text/plain": [
              "array([[0., 0., 0., 0.],\n",
              "       [0., 0., 0., 0.],\n",
              "       [0., 0., 0., 0.]])"
            ]
          },
          "metadata": {},
          "execution_count": 91
        }
      ]
    },
    {
      "cell_type": "code",
      "source": [
        "np.ones((3,4))"
      ],
      "metadata": {
        "colab": {
          "base_uri": "https://localhost:8080/"
        },
        "id": "NITBsUPsVlvZ",
        "outputId": "596efa03-69e8-45bd-a90a-c9261f7c6e18"
      },
      "execution_count": null,
      "outputs": [
        {
          "output_type": "execute_result",
          "data": {
            "text/plain": [
              "array([[1., 1., 1., 1.],\n",
              "       [1., 1., 1., 1.],\n",
              "       [1., 1., 1., 1.]])"
            ]
          },
          "metadata": {},
          "execution_count": 92
        }
      ]
    },
    {
      "cell_type": "code",
      "source": [
        "array1[4]"
      ],
      "metadata": {
        "colab": {
          "base_uri": "https://localhost:8080/"
        },
        "id": "Kq4UJcPmWPv4",
        "outputId": "3080daa3-1da1-4e1a-cf7a-06a69dac73df"
      },
      "execution_count": null,
      "outputs": [
        {
          "output_type": "execute_result",
          "data": {
            "text/plain": [
              "np.int64(7)"
            ]
          },
          "metadata": {},
          "execution_count": 93
        }
      ]
    },
    {
      "cell_type": "code",
      "source": [
        "array1[3:6:2]"
      ],
      "metadata": {
        "colab": {
          "base_uri": "https://localhost:8080/"
        },
        "id": "iJOoOCyhWTH6",
        "outputId": "a4c33fa9-bf03-49b8-ad52-c1b6d2f0fabb"
      },
      "execution_count": null,
      "outputs": [
        {
          "output_type": "execute_result",
          "data": {
            "text/plain": [
              "array([5, 8])"
            ]
          },
          "metadata": {},
          "execution_count": 94
        }
      ]
    },
    {
      "cell_type": "code",
      "source": [
        "array1[array1>5]"
      ],
      "metadata": {
        "colab": {
          "base_uri": "https://localhost:8080/"
        },
        "id": "b6QeRy5fWt17",
        "outputId": "dc163328-e601-48f4-e692-138e0edae471"
      },
      "execution_count": null,
      "outputs": [
        {
          "output_type": "execute_result",
          "data": {
            "text/plain": [
              "array([7, 8])"
            ]
          },
          "metadata": {},
          "execution_count": 95
        }
      ]
    },
    {
      "cell_type": "code",
      "source": [
        "array1[array1>5]=4\n",
        "print(array1)"
      ],
      "metadata": {
        "colab": {
          "base_uri": "https://localhost:8080/"
        },
        "id": "uzdmwQWhW-eP",
        "outputId": "240d8b8c-8c2f-4496-d85e-9ba4bb734421"
      },
      "execution_count": null,
      "outputs": [
        {
          "output_type": "stream",
          "name": "stdout",
          "text": [
            "[2 2 4 5 4 4]\n"
          ]
        }
      ]
    },
    {
      "cell_type": "code",
      "source": [
        "array_one=np.ones((2,3))\n",
        "print(array_one)\n",
        "\n",
        "print(array_one[1, :])\n",
        "print(array_one[1 ,1])"
      ],
      "metadata": {
        "colab": {
          "base_uri": "https://localhost:8080/"
        },
        "id": "QimxF_RDXVcc",
        "outputId": "b6daf964-47b0-435d-e743-b3804275d589"
      },
      "execution_count": null,
      "outputs": [
        {
          "output_type": "stream",
          "name": "stdout",
          "text": [
            "[[1. 1. 1.]\n",
            " [1. 1. 1.]]\n",
            "[1. 1. 1.]\n",
            "1.0\n"
          ]
        }
      ]
    },
    {
      "cell_type": "code",
      "source": [
        "arr=np.array([[1,2,3], [4,5,6]])\n",
        "print(arr[1,1:2])\n",
        "\n",
        "print(arr[:,1:7])"
      ],
      "metadata": {
        "colab": {
          "base_uri": "https://localhost:8080/"
        },
        "id": "PCedDZqmYJj5",
        "outputId": "bc4c2cef-ae8d-4a16-fb62-609880c1b2a2"
      },
      "execution_count": null,
      "outputs": [
        {
          "output_type": "stream",
          "name": "stdout",
          "text": [
            "[5]\n",
            "[[2 3]\n",
            " [5 6]]\n"
          ]
        }
      ]
    },
    {
      "cell_type": "code",
      "source": [
        "arr1=np.zeros((2,2))\n",
        "arr1"
      ],
      "metadata": {
        "colab": {
          "base_uri": "https://localhost:8080/"
        },
        "id": "n_xGHMcGZjKh",
        "outputId": "4a13dbd7-b76b-427d-c680-9ec3e6215446"
      },
      "execution_count": null,
      "outputs": [
        {
          "output_type": "execute_result",
          "data": {
            "text/plain": [
              "array([[0., 0.],\n",
              "       [0., 0.]])"
            ]
          },
          "metadata": {},
          "execution_count": 99
        }
      ]
    },
    {
      "cell_type": "code",
      "source": [
        "arr1[0,1]=1\n",
        "arr1[1,0]=1\n",
        "arr1"
      ],
      "metadata": {
        "colab": {
          "base_uri": "https://localhost:8080/"
        },
        "id": "iNcyrcDYcuEb",
        "outputId": "3ba29efa-dfcc-4b4c-c164-53a991ea29c6"
      },
      "execution_count": null,
      "outputs": [
        {
          "output_type": "execute_result",
          "data": {
            "text/plain": [
              "array([[0., 1.],\n",
              "       [1., 0.]])"
            ]
          },
          "metadata": {},
          "execution_count": 100
        }
      ]
    },
    {
      "cell_type": "code",
      "source": [
        "arr3=np.arange(9)\n",
        "arr3.reshape(1,3,3)\n",
        "# 1 for3 dimension array"
      ],
      "metadata": {
        "colab": {
          "base_uri": "https://localhost:8080/"
        },
        "id": "gUiyB-CXe9Iy",
        "outputId": "4e41f3ec-fc18-400d-b5ed-89509f8ed716"
      },
      "execution_count": null,
      "outputs": [
        {
          "output_type": "execute_result",
          "data": {
            "text/plain": [
              "array([[[0, 1, 2],\n",
              "        [3, 4, 5],\n",
              "        [6, 7, 8]]])"
            ]
          },
          "metadata": {},
          "execution_count": 101
        }
      ]
    },
    {
      "cell_type": "code",
      "source": [
        "# channel ,row ,column\n",
        "# multiply = total no of values\n",
        "\n",
        "arr4=np.arange(12)\n",
        "array4=arr4.reshape(1,3,4)\n",
        "\n",
        "arr5=np.arange(16)\n",
        "array5=arr5.reshape(2,2,4)\n",
        "print(array5)"
      ],
      "metadata": {
        "colab": {
          "base_uri": "https://localhost:8080/"
        },
        "id": "k52YjRpHffYZ",
        "outputId": "a6360d98-f492-4b98-9618-6366f34d9d70"
      },
      "execution_count": null,
      "outputs": [
        {
          "output_type": "stream",
          "name": "stdout",
          "text": [
            "[[[ 0  1  2  3]\n",
            "  [ 4  5  6  7]]\n",
            "\n",
            " [[ 8  9 10 11]\n",
            "  [12 13 14 15]]]\n"
          ]
        }
      ]
    },
    {
      "cell_type": "code",
      "source": [
        "array5[0,1]"
      ],
      "metadata": {
        "colab": {
          "base_uri": "https://localhost:8080/"
        },
        "id": "GlUhsdrXipWu",
        "outputId": "169275d7-6fc8-43d9-a832-18f924a9c65c"
      },
      "execution_count": null,
      "outputs": [
        {
          "output_type": "execute_result",
          "data": {
            "text/plain": [
              "array([4, 5, 6, 7])"
            ]
          },
          "metadata": {},
          "execution_count": 103
        }
      ]
    },
    {
      "cell_type": "code",
      "source": [
        "# array5[0:,1]\n",
        "print(array5[0, 1, 1:3],array5[1,1,1:3])"
      ],
      "metadata": {
        "colab": {
          "base_uri": "https://localhost:8080/"
        },
        "id": "FwQcRtRlkucH",
        "outputId": "9eecf2c4-47d9-4565-f965-6295e11389ab"
      },
      "execution_count": null,
      "outputs": [
        {
          "output_type": "stream",
          "name": "stdout",
          "text": [
            "[5 6] [13 14]\n"
          ]
        }
      ]
    },
    {
      "cell_type": "code",
      "source": [
        "array5*2"
      ],
      "metadata": {
        "colab": {
          "base_uri": "https://localhost:8080/"
        },
        "id": "lxnQHPItmaqZ",
        "outputId": "0b8ee868-d7a7-4a8f-ee04-8c7d3fe4ef6d"
      },
      "execution_count": null,
      "outputs": [
        {
          "output_type": "execute_result",
          "data": {
            "text/plain": [
              "array([[[ 0,  2,  4,  6],\n",
              "        [ 8, 10, 12, 14]],\n",
              "\n",
              "       [[16, 18, 20, 22],\n",
              "        [24, 26, 28, 30]]])"
            ]
          },
          "metadata": {},
          "execution_count": 105
        }
      ]
    },
    {
      "cell_type": "code",
      "source": [
        "array5+4"
      ],
      "metadata": {
        "colab": {
          "base_uri": "https://localhost:8080/"
        },
        "id": "AVDUp0a1n1b5",
        "outputId": "846a8940-6434-4695-97b7-7706457df4d7"
      },
      "execution_count": null,
      "outputs": [
        {
          "output_type": "execute_result",
          "data": {
            "text/plain": [
              "array([[[ 4,  5,  6,  7],\n",
              "        [ 8,  9, 10, 11]],\n",
              "\n",
              "       [[12, 13, 14, 15],\n",
              "        [16, 17, 18, 19]]])"
            ]
          },
          "metadata": {},
          "execution_count": 106
        }
      ]
    },
    {
      "cell_type": "code",
      "source": [
        "array5.transpose()"
      ],
      "metadata": {
        "colab": {
          "base_uri": "https://localhost:8080/"
        },
        "id": "rF8rKY0KoEnK",
        "outputId": "fbae0e85-f65a-4569-b722-76c4c6024fa1"
      },
      "execution_count": null,
      "outputs": [
        {
          "output_type": "execute_result",
          "data": {
            "text/plain": [
              "array([[[ 0,  8],\n",
              "        [ 4, 12]],\n",
              "\n",
              "       [[ 1,  9],\n",
              "        [ 5, 13]],\n",
              "\n",
              "       [[ 2, 10],\n",
              "        [ 6, 14]],\n",
              "\n",
              "       [[ 3, 11],\n",
              "        [ 7, 15]]])"
            ]
          },
          "metadata": {},
          "execution_count": 107
        }
      ]
    },
    {
      "cell_type": "code",
      "source": [
        "# practice\n",
        "array6=np.arange(20).reshape(5,2,2)\n",
        "print(array6)\n"
      ],
      "metadata": {
        "colab": {
          "base_uri": "https://localhost:8080/"
        },
        "id": "U1oAnCd1S4Z6",
        "outputId": "b5a5a832-db31-4cee-8f62-1197f4eb0647"
      },
      "execution_count": null,
      "outputs": [
        {
          "output_type": "stream",
          "name": "stdout",
          "text": [
            "[[[ 0  1]\n",
            "  [ 2  3]]\n",
            "\n",
            " [[ 4  5]\n",
            "  [ 6  7]]\n",
            "\n",
            " [[ 8  9]\n",
            "  [10 11]]\n",
            "\n",
            " [[12 13]\n",
            "  [14 15]]\n",
            "\n",
            " [[16 17]\n",
            "  [18 19]]]\n"
          ]
        }
      ]
    },
    {
      "cell_type": "code",
      "source": [
        "array6[:1] ,array6[3:4]"
      ],
      "metadata": {
        "colab": {
          "base_uri": "https://localhost:8080/"
        },
        "id": "qQXWJKtJTXYD",
        "outputId": "3f506f67-bb38-44c0-b290-959bbd00b1ae"
      },
      "execution_count": null,
      "outputs": [
        {
          "output_type": "execute_result",
          "data": {
            "text/plain": [
              "(array([[[0, 1],\n",
              "         [2, 3]]]),\n",
              " array([[[12, 13],\n",
              "         [14, 15]]]))"
            ]
          },
          "metadata": {},
          "execution_count": 109
        }
      ]
    },
    {
      "cell_type": "markdown",
      "source": [
        "# **🔰 Tasks for Practice (No Solutions)**\n",
        "1- What is the shape and number of dimensions of array6?\n",
        "\n",
        "2- Print only the first 2D block from the array.\n",
        "\n",
        "3- Access and print the element at block 2, row 1, column 1.\n",
        "\n",
        "4- Loop through all blocks and print the sum of each block.\n",
        "\n",
        "5- Reverse the order of the blocks in the array.\n",
        "\n",
        "6- Print the maximum value in each 2D block.\n",
        "\n",
        "7- Convert the 3D array into a 1D array (flatten it).\n",
        "\n",
        "8- Print only the last row of every block.\n",
        "\n",
        "9- Replace all even numbers in the array with 0.\n",
        "\n",
        "10- Count how many numbers in the array are greater than 10."
      ],
      "metadata": {
        "id": "VuKJ9kwQW5KM"
      }
    },
    {
      "cell_type": "code",
      "source": [
        "# answer1\n",
        "print(\"shape of array6 is:\",array6.shape,\"and no of dimension of array6 is:\",array6.ndim)"
      ],
      "metadata": {
        "colab": {
          "base_uri": "https://localhost:8080/"
        },
        "id": "_DFaBI5CV6O_",
        "outputId": "060e5daf-3a75-4c76-ba44-503bff3f8267"
      },
      "execution_count": null,
      "outputs": [
        {
          "output_type": "stream",
          "name": "stdout",
          "text": [
            "shape of array6 is: (5, 2, 2) and no of dimension of array6 is: 3\n"
          ]
        },
        {
          "output_type": "execute_result",
          "data": {
            "text/plain": [
              "array([[[0, 1],\n",
              "        [2, 3]]])"
            ]
          },
          "metadata": {},
          "execution_count": 110
        }
      ]
    },
    {
      "cell_type": "code",
      "source": [
        "# answer 2\n",
        "array6[:1]"
      ],
      "metadata": {
        "colab": {
          "base_uri": "https://localhost:8080/"
        },
        "id": "QwvZ3iNBXnn7",
        "outputId": "9f307883-f4aa-42d4-f019-f69d348ae1a5"
      },
      "execution_count": null,
      "outputs": [
        {
          "output_type": "execute_result",
          "data": {
            "text/plain": [
              "array([[[0, 1],\n",
              "        [2, 3]]])"
            ]
          },
          "metadata": {},
          "execution_count": 111
        }
      ]
    },
    {
      "cell_type": "code",
      "source": [
        "# answer3\n",
        "array6[1,0,0]"
      ],
      "metadata": {
        "colab": {
          "base_uri": "https://localhost:8080/"
        },
        "id": "dkxs5pSYZUAc",
        "outputId": "7b5d7ad4-ba0a-4ff9-c797-22c9b5149cc4"
      },
      "execution_count": null,
      "outputs": [
        {
          "output_type": "execute_result",
          "data": {
            "text/plain": [
              "np.int64(4)"
            ]
          },
          "metadata": {},
          "execution_count": 115
        }
      ]
    },
    {
      "cell_type": "code",
      "source": [
        "# answer 4\n",
        "for i in array6:\n",
        "    sum=np.sum(i)\n",
        "    print(\"sum of\\n\",i, \"are: \",sum)"
      ],
      "metadata": {
        "colab": {
          "base_uri": "https://localhost:8080/"
        },
        "id": "4sex3IbCZp3N",
        "outputId": "ffeda010-2fc9-4756-edb3-5107dab8fde5"
      },
      "execution_count": null,
      "outputs": [
        {
          "output_type": "stream",
          "name": "stdout",
          "text": [
            "sum of\n",
            " [[0 1]\n",
            " [2 3]] are:  6\n",
            "sum of\n",
            " [[4 5]\n",
            " [6 7]] are:  22\n",
            "sum of\n",
            " [[ 8  9]\n",
            " [10 11]] are:  38\n",
            "sum of\n",
            " [[12 13]\n",
            " [14 15]] are:  54\n",
            "sum of\n",
            " [[16 17]\n",
            " [18 19]] are:  70\n"
          ]
        }
      ]
    },
    {
      "cell_type": "code",
      "source": [
        "# answer 5\n",
        "np.flip(array6)"
      ],
      "metadata": {
        "colab": {
          "base_uri": "https://localhost:8080/"
        },
        "id": "qhXvwawDaW9B",
        "outputId": "cdd6580a-a09a-4c43-a070-fcd6c8ff1d18"
      },
      "execution_count": null,
      "outputs": [
        {
          "output_type": "execute_result",
          "data": {
            "text/plain": [
              "array([[[19, 18],\n",
              "        [17, 16]],\n",
              "\n",
              "       [[15, 14],\n",
              "        [13, 12]],\n",
              "\n",
              "       [[11, 10],\n",
              "        [ 9,  8]],\n",
              "\n",
              "       [[ 7,  6],\n",
              "        [ 5,  4]],\n",
              "\n",
              "       [[ 3,  2],\n",
              "        [ 1,  0]]])"
            ]
          },
          "metadata": {},
          "execution_count": 135
        }
      ]
    },
    {
      "cell_type": "code",
      "source": [
        "# answer6\n",
        "print(\"max value of each 2D block is:\",np.max(array6[:2]),\"\\nmax value of each 2D block is:\",np.max(array6[2:4]))"
      ],
      "metadata": {
        "colab": {
          "base_uri": "https://localhost:8080/"
        },
        "id": "3oz2mO-Ibwtr",
        "outputId": "d3104e9c-0491-4a18-ae93-160d858a5821"
      },
      "execution_count": null,
      "outputs": [
        {
          "output_type": "stream",
          "name": "stdout",
          "text": [
            "max value of each 2D block is: 7 \n",
            "max value of each 2D block is: 15\n"
          ]
        }
      ]
    },
    {
      "cell_type": "code",
      "source": [
        "# answer7\n",
        "array6.flatten()"
      ],
      "metadata": {
        "colab": {
          "base_uri": "https://localhost:8080/"
        },
        "id": "cjFaYvsacN4q",
        "outputId": "a9bae5c0-635b-4e5e-fd02-ed673cce34b1"
      },
      "execution_count": null,
      "outputs": [
        {
          "output_type": "execute_result",
          "data": {
            "text/plain": [
              "array([ 0,  1,  2,  3,  4,  5,  6,  7,  8,  9, 10, 11, 12, 13, 14, 15, 16,\n",
              "       17, 18, 19])"
            ]
          },
          "metadata": {},
          "execution_count": 144
        }
      ]
    },
    {
      "cell_type": "code",
      "source": [
        "# answer8\n",
        "for i in array6:\n",
        "    print(i[-1, :])"
      ],
      "metadata": {
        "colab": {
          "base_uri": "https://localhost:8080/"
        },
        "id": "qC3XvzI3dLW6",
        "outputId": "4218e82d-be2b-4081-ff53-2240c8330927"
      },
      "execution_count": null,
      "outputs": [
        {
          "output_type": "stream",
          "name": "stdout",
          "text": [
            "[2 3]\n",
            "[6 7]\n",
            "[10 11]\n",
            "[14 15]\n",
            "[18 19]\n"
          ]
        }
      ]
    },
    {
      "cell_type": "code",
      "source": [
        "# answer9\n",
        "for i in range(array6.shape[0]):\n",
        "    for row in range(array6.shape[1]):\n",
        "        for col in range(array6.shape[2]):\n",
        "            if array6[i, row, col] % 2 == 0:\n",
        "                array6[i, row, col] = 0\n",
        "\n",
        "print(array6)"
      ],
      "metadata": {
        "colab": {
          "base_uri": "https://localhost:8080/"
        },
        "id": "YIKNALXjdpyY",
        "outputId": "032202f5-5b95-45ed-f17a-25e2fcd6385c"
      },
      "execution_count": null,
      "outputs": [
        {
          "output_type": "stream",
          "name": "stdout",
          "text": [
            "[[[ 0  1]\n",
            "  [ 0  3]]\n",
            "\n",
            " [[ 0  5]\n",
            "  [ 0  7]]\n",
            "\n",
            " [[ 0  9]\n",
            "  [ 0 11]]\n",
            "\n",
            " [[ 0 13]\n",
            "  [ 0 15]]\n",
            "\n",
            " [[ 0 17]\n",
            "  [ 0 19]]]\n"
          ]
        }
      ]
    },
    {
      "cell_type": "code",
      "source": [
        "# answer 10\n",
        "count=0\n",
        "for i in range(array6.shape[0]):\n",
        "    for row in range(array6.shape[1]):\n",
        "        for col in range(array6.shape[2]):\n",
        "            if array6[i, row, col] >10:\n",
        "                count+=1\n",
        "\n",
        "print(count)"
      ],
      "metadata": {
        "colab": {
          "base_uri": "https://localhost:8080/"
        },
        "id": "yyvWMSnQehNm",
        "outputId": "5822a881-8614-4b83-8fa0-52063d3f6294"
      },
      "execution_count": null,
      "outputs": [
        {
          "output_type": "stream",
          "name": "stdout",
          "text": [
            "5\n"
          ]
        }
      ]
    },
    {
      "cell_type": "code",
      "source": [],
      "metadata": {
        "id": "urRoyI63fXTn"
      },
      "execution_count": null,
      "outputs": []
    }
  ]
}